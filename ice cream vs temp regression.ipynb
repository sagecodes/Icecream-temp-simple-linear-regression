{
  "nbformat": 4,
  "nbformat_minor": 0,
  "metadata": {
    "kernelspec": {
      "display_name": "Python 3",
      "language": "python",
      "name": "python3"
    },
    "language_info": {
      "codemirror_mode": {
        "name": "ipython",
        "version": 3
      },
      "file_extension": ".py",
      "mimetype": "text/x-python",
      "name": "python",
      "nbconvert_exporter": "python",
      "pygments_lexer": "ipython3",
      "version": "3.6.6"
    },
    "colab": {
      "name": "ice cream vs temp regression.ipynb",
      "provenance": []
    }
  },
  "cells": [
    {
      "cell_type": "markdown",
      "metadata": {
        "id": "WscfL1CpwO_w",
        "colab_type": "text"
      },
      "source": [
        "### import libraries and Data"
      ]
    },
    {
      "cell_type": "code",
      "metadata": {
        "id": "QPLWkDYGwO_0",
        "colab_type": "code",
        "colab": {}
      },
      "source": [
        "# Import Libraries\n",
        "\n",
        "import pandas as pd\n",
        "import numpy as np\n",
        "import seaborn as sns\n",
        "import matplotlib.pyplot as plt\n",
        "%matplotlib inline"
      ],
      "execution_count": null,
      "outputs": []
    },
    {
      "cell_type": "code",
      "metadata": {
        "id": "sFJZs8eQwO_8",
        "colab_type": "code",
        "colab": {}
      },
      "source": [
        "# Import data\n",
        "icecream_df = pd.read_csv('../datasets/icecream/IceCreamData.csv')"
      ],
      "execution_count": null,
      "outputs": []
    },
    {
      "cell_type": "code",
      "metadata": {
        "id": "u-LXzBQ8wPAD",
        "colab_type": "code",
        "colab": {},
        "outputId": "f13345b0-7830-4d73-9f76-77d4faaf147b"
      },
      "source": [
        "icecream_df.head()"
      ],
      "execution_count": null,
      "outputs": [
        {
          "output_type": "execute_result",
          "data": {
            "text/html": [
              "<div>\n",
              "<style scoped>\n",
              "    .dataframe tbody tr th:only-of-type {\n",
              "        vertical-align: middle;\n",
              "    }\n",
              "\n",
              "    .dataframe tbody tr th {\n",
              "        vertical-align: top;\n",
              "    }\n",
              "\n",
              "    .dataframe thead th {\n",
              "        text-align: right;\n",
              "    }\n",
              "</style>\n",
              "<table border=\"1\" class=\"dataframe\">\n",
              "  <thead>\n",
              "    <tr style=\"text-align: right;\">\n",
              "      <th></th>\n",
              "      <th>Temperature</th>\n",
              "      <th>Revenue</th>\n",
              "    </tr>\n",
              "  </thead>\n",
              "  <tbody>\n",
              "    <tr>\n",
              "      <th>0</th>\n",
              "      <td>24.566884</td>\n",
              "      <td>534.799028</td>\n",
              "    </tr>\n",
              "    <tr>\n",
              "      <th>1</th>\n",
              "      <td>26.005191</td>\n",
              "      <td>625.190122</td>\n",
              "    </tr>\n",
              "    <tr>\n",
              "      <th>2</th>\n",
              "      <td>27.790554</td>\n",
              "      <td>660.632289</td>\n",
              "    </tr>\n",
              "    <tr>\n",
              "      <th>3</th>\n",
              "      <td>20.595335</td>\n",
              "      <td>487.706960</td>\n",
              "    </tr>\n",
              "    <tr>\n",
              "      <th>4</th>\n",
              "      <td>11.503498</td>\n",
              "      <td>316.240194</td>\n",
              "    </tr>\n",
              "  </tbody>\n",
              "</table>\n",
              "</div>"
            ],
            "text/plain": [
              "   Temperature     Revenue\n",
              "0    24.566884  534.799028\n",
              "1    26.005191  625.190122\n",
              "2    27.790554  660.632289\n",
              "3    20.595335  487.706960\n",
              "4    11.503498  316.240194"
            ]
          },
          "metadata": {
            "tags": []
          },
          "execution_count": 4
        }
      ]
    },
    {
      "cell_type": "code",
      "metadata": {
        "id": "bIzMmVtAwPAL",
        "colab_type": "code",
        "colab": {},
        "outputId": "ac0fe5e0-758e-411b-ab0f-7afd2456178a"
      },
      "source": [
        "icecream_df.tail()"
      ],
      "execution_count": null,
      "outputs": [
        {
          "output_type": "execute_result",
          "data": {
            "text/html": [
              "<div>\n",
              "<style scoped>\n",
              "    .dataframe tbody tr th:only-of-type {\n",
              "        vertical-align: middle;\n",
              "    }\n",
              "\n",
              "    .dataframe tbody tr th {\n",
              "        vertical-align: top;\n",
              "    }\n",
              "\n",
              "    .dataframe thead th {\n",
              "        text-align: right;\n",
              "    }\n",
              "</style>\n",
              "<table border=\"1\" class=\"dataframe\">\n",
              "  <thead>\n",
              "    <tr style=\"text-align: right;\">\n",
              "      <th></th>\n",
              "      <th>Temperature</th>\n",
              "      <th>Revenue</th>\n",
              "    </tr>\n",
              "  </thead>\n",
              "  <tbody>\n",
              "    <tr>\n",
              "      <th>495</th>\n",
              "      <td>22.274899</td>\n",
              "      <td>524.746364</td>\n",
              "    </tr>\n",
              "    <tr>\n",
              "      <th>496</th>\n",
              "      <td>32.893092</td>\n",
              "      <td>755.818399</td>\n",
              "    </tr>\n",
              "    <tr>\n",
              "      <th>497</th>\n",
              "      <td>12.588157</td>\n",
              "      <td>306.090719</td>\n",
              "    </tr>\n",
              "    <tr>\n",
              "      <th>498</th>\n",
              "      <td>22.362402</td>\n",
              "      <td>566.217304</td>\n",
              "    </tr>\n",
              "    <tr>\n",
              "      <th>499</th>\n",
              "      <td>28.957736</td>\n",
              "      <td>655.660388</td>\n",
              "    </tr>\n",
              "  </tbody>\n",
              "</table>\n",
              "</div>"
            ],
            "text/plain": [
              "     Temperature     Revenue\n",
              "495    22.274899  524.746364\n",
              "496    32.893092  755.818399\n",
              "497    12.588157  306.090719\n",
              "498    22.362402  566.217304\n",
              "499    28.957736  655.660388"
            ]
          },
          "metadata": {
            "tags": []
          },
          "execution_count": 5
        }
      ]
    },
    {
      "cell_type": "markdown",
      "metadata": {
        "id": "V9957MW3wPAS",
        "colab_type": "text"
      },
      "source": [
        "### Explore data\n"
      ]
    },
    {
      "cell_type": "code",
      "metadata": {
        "id": "BPKLz8YGwPAV",
        "colab_type": "code",
        "colab": {},
        "outputId": "a7f53ada-ab9d-42a2-d9dc-0608055a2651"
      },
      "source": [
        "icecream_df.shape"
      ],
      "execution_count": null,
      "outputs": [
        {
          "output_type": "execute_result",
          "data": {
            "text/plain": [
              "(500, 2)"
            ]
          },
          "metadata": {
            "tags": []
          },
          "execution_count": 6
        }
      ]
    },
    {
      "cell_type": "code",
      "metadata": {
        "id": "jv9YE0wxwPAc",
        "colab_type": "code",
        "colab": {},
        "outputId": "2dfc1d5d-7b16-4596-9456-7cbe7d867b24"
      },
      "source": [
        "icecream_df.describe()"
      ],
      "execution_count": null,
      "outputs": [
        {
          "output_type": "execute_result",
          "data": {
            "text/html": [
              "<div>\n",
              "<style scoped>\n",
              "    .dataframe tbody tr th:only-of-type {\n",
              "        vertical-align: middle;\n",
              "    }\n",
              "\n",
              "    .dataframe tbody tr th {\n",
              "        vertical-align: top;\n",
              "    }\n",
              "\n",
              "    .dataframe thead th {\n",
              "        text-align: right;\n",
              "    }\n",
              "</style>\n",
              "<table border=\"1\" class=\"dataframe\">\n",
              "  <thead>\n",
              "    <tr style=\"text-align: right;\">\n",
              "      <th></th>\n",
              "      <th>Temperature</th>\n",
              "      <th>Revenue</th>\n",
              "    </tr>\n",
              "  </thead>\n",
              "  <tbody>\n",
              "    <tr>\n",
              "      <th>count</th>\n",
              "      <td>500.000000</td>\n",
              "      <td>500.000000</td>\n",
              "    </tr>\n",
              "    <tr>\n",
              "      <th>mean</th>\n",
              "      <td>22.232225</td>\n",
              "      <td>521.570777</td>\n",
              "    </tr>\n",
              "    <tr>\n",
              "      <th>std</th>\n",
              "      <td>8.096388</td>\n",
              "      <td>175.404751</td>\n",
              "    </tr>\n",
              "    <tr>\n",
              "      <th>min</th>\n",
              "      <td>0.000000</td>\n",
              "      <td>10.000000</td>\n",
              "    </tr>\n",
              "    <tr>\n",
              "      <th>25%</th>\n",
              "      <td>17.122258</td>\n",
              "      <td>405.558681</td>\n",
              "    </tr>\n",
              "    <tr>\n",
              "      <th>50%</th>\n",
              "      <td>22.392791</td>\n",
              "      <td>529.368565</td>\n",
              "    </tr>\n",
              "    <tr>\n",
              "      <th>75%</th>\n",
              "      <td>27.740674</td>\n",
              "      <td>642.257922</td>\n",
              "    </tr>\n",
              "    <tr>\n",
              "      <th>max</th>\n",
              "      <td>45.000000</td>\n",
              "      <td>1000.000000</td>\n",
              "    </tr>\n",
              "  </tbody>\n",
              "</table>\n",
              "</div>"
            ],
            "text/plain": [
              "       Temperature      Revenue\n",
              "count   500.000000   500.000000\n",
              "mean     22.232225   521.570777\n",
              "std       8.096388   175.404751\n",
              "min       0.000000    10.000000\n",
              "25%      17.122258   405.558681\n",
              "50%      22.392791   529.368565\n",
              "75%      27.740674   642.257922\n",
              "max      45.000000  1000.000000"
            ]
          },
          "metadata": {
            "tags": []
          },
          "execution_count": 7
        }
      ]
    },
    {
      "cell_type": "code",
      "metadata": {
        "id": "18QIYs3VwPAu",
        "colab_type": "code",
        "colab": {},
        "outputId": "d0a9fbe3-3db2-4314-a4d0-164e78a851c7"
      },
      "source": [
        "icecream_df.info()"
      ],
      "execution_count": null,
      "outputs": [
        {
          "output_type": "stream",
          "text": [
            "<class 'pandas.core.frame.DataFrame'>\n",
            "RangeIndex: 500 entries, 0 to 499\n",
            "Data columns (total 2 columns):\n",
            "Temperature    500 non-null float64\n",
            "Revenue        500 non-null float64\n",
            "dtypes: float64(2)\n",
            "memory usage: 7.9 KB\n"
          ],
          "name": "stdout"
        }
      ]
    },
    {
      "cell_type": "code",
      "metadata": {
        "id": "cmbF4HcvwPBC",
        "colab_type": "code",
        "colab": {},
        "outputId": "bd45e339-f929-42e3-fc70-20ee99b5290a"
      },
      "source": [
        "sns.jointplot(x='Temperature', y = 'Revenue', data = icecream_df, color = 'gray')"
      ],
      "execution_count": null,
      "outputs": [
        {
          "output_type": "execute_result",
          "data": {
            "text/plain": [
              "<seaborn.axisgrid.JointGrid at 0x2628c521470>"
            ]
          },
          "metadata": {
            "tags": []
          },
          "execution_count": 9
        },
        {
          "output_type": "display_data",
          "data": {
            "image/png": "[encoded data removed]",
            "text/plain": [
              "<Figure size 432x432 with 3 Axes>"
            ]
          },
          "metadata": {
            "tags": [],
            "needs_background": "light"
          }
        }
      ]
    },
    {
      "cell_type": "code",
      "metadata": {
        "id": "3gHXWeomwPBQ",
        "colab_type": "code",
        "colab": {},
        "outputId": "9bf872c0-573b-4b55-f271-59f5e0c24af2"
      },
      "source": [
        "sns.jointplot(x='Revenue', y = 'Temperature', data = icecream_df, color = 'blue')"
      ],
      "execution_count": null,
      "outputs": [
        {
          "output_type": "execute_result",
          "data": {
            "text/plain": [
              "<seaborn.axisgrid.JointGrid at 0x2628c79def0>"
            ]
          },
          "metadata": {
            "tags": []
          },
          "execution_count": 11
        },
        {
          "output_type": "display_data",
          "data": {
            "image/png": "[encoded data removed]",
            "text/plain": [
              "<Figure size 432x432 with 3 Axes>"
            ]
          },
          "metadata": {
            "tags": [],
            "needs_background": "light"
          }
        }
      ]
    },
    {
      "cell_type": "code",
      "metadata": {
        "id": "WzMmo7QiwPBb",
        "colab_type": "code",
        "colab": {},
        "outputId": "dfa677e8-4c3c-49e3-c557-ef51dc3bfe25"
      },
      "source": [
        "sns.pairplot(icecream_df)"
      ],
      "execution_count": null,
      "outputs": [
        {
          "output_type": "execute_result",
          "data": {
            "text/plain": [
              "<seaborn.axisgrid.PairGrid at 0x2628caeb198>"
            ]
          },
          "metadata": {
            "tags": []
          },
          "execution_count": 12
        },
        {
          "output_type": "display_data",
          "data": {
            "image/png": "[encoded data removed]",
            "text/plain": [
              "<Figure size 360x360 with 6 Axes>"
            ]
          },
          "metadata": {
            "tags": [],
            "needs_background": "light"
          }
        }
      ]
    },
    {
      "cell_type": "code",
      "metadata": {
        "id": "5_5liUHMwPBu",
        "colab_type": "code",
        "colab": {},
        "outputId": "33eaedd3-fe84-461a-e5f9-2a4ba9800eab"
      },
      "source": [
        "# lmplot plots best line thorugh data\n",
        "sns.lmplot(x='Temperature', y='Revenue', data = icecream_df)"
      ],
      "execution_count": null,
      "outputs": [
        {
          "output_type": "execute_result",
          "data": {
            "text/plain": [
              "<seaborn.axisgrid.FacetGrid at 0x2628cd0eb38>"
            ]
          },
          "metadata": {
            "tags": []
          },
          "execution_count": 15
        },
        {
          "output_type": "display_data",
          "data": {
            "image/png": "[encoded data removed]",
            "text/plain": [
              "<Figure size 360x360 with 1 Axes>"
            ]
          },
          "metadata": {
            "tags": [],
            "needs_background": "light"
          }
        }
      ]
    },
    {
      "cell_type": "code",
      "metadata": {
        "id": "JoE0ZSQuwPB1",
        "colab_type": "code",
        "colab": {},
        "outputId": "136aef06-cc66-4e59-e13d-8f0d94614722"
      },
      "source": [
        "# lmplot plots best line thorugh data\n",
        "sns.lmplot(x='Revenue', y='Temperature', data = icecream_df)"
      ],
      "execution_count": null,
      "outputs": [
        {
          "output_type": "execute_result",
          "data": {
            "text/plain": [
              "<seaborn.axisgrid.FacetGrid at 0x2628ce262b0>"
            ]
          },
          "metadata": {
            "tags": []
          },
          "execution_count": 16
        },
        {
          "output_type": "display_data",
          "data": {
            "image/png": "[encoded data removed]",
            "text/plain": [
              "<Figure size 360x360 with 1 Axes>"
            ]
          },
          "metadata": {
            "tags": [],
            "needs_background": "light"
          }
        }
      ]
    },
    {
      "cell_type": "code",
      "metadata": {
        "id": "tVSmj-uxwPB-",
        "colab_type": "code",
        "colab": {}
      },
      "source": [
        "X = icecream_df[['Temperature']]"
      ],
      "execution_count": null,
      "outputs": []
    },
    {
      "cell_type": "code",
      "metadata": {
        "id": "P3v7Fu8ZwPCE",
        "colab_type": "code",
        "colab": {}
      },
      "source": [
        "y = icecream_df['Revenue']"
      ],
      "execution_count": null,
      "outputs": []
    },
    {
      "cell_type": "code",
      "metadata": {
        "id": "4UnTahT5wPCJ",
        "colab_type": "code",
        "colab": {},
        "outputId": "75feefcf-c339-4209-db3e-c85e0309c19c"
      },
      "source": [
        "X.shape"
      ],
      "execution_count": null,
      "outputs": [
        {
          "output_type": "execute_result",
          "data": {
            "text/plain": [
              "(500, 1)"
            ]
          },
          "metadata": {
            "tags": []
          },
          "execution_count": 33
        }
      ]
    },
    {
      "cell_type": "code",
      "metadata": {
        "id": "QZ8wVC2RwPCQ",
        "colab_type": "code",
        "colab": {},
        "outputId": "e8abfb62-e08f-477d-e95e-bd461d26143d"
      },
      "source": [
        "y.shape"
      ],
      "execution_count": null,
      "outputs": [
        {
          "output_type": "execute_result",
          "data": {
            "text/plain": [
              "(500,)"
            ]
          },
          "metadata": {
            "tags": []
          },
          "execution_count": 34
        }
      ]
    },
    {
      "cell_type": "code",
      "metadata": {
        "id": "9lC3VqDxwPCV",
        "colab_type": "code",
        "colab": {}
      },
      "source": [
        "# Create train Test Split\n",
        "from sklearn.model_selection import train_test_split\n",
        "X_train, X_test, y_train, y_test = train_test_split(X,y,test_size=0.20, random_state = 5)"
      ],
      "execution_count": null,
      "outputs": []
    },
    {
      "cell_type": "markdown",
      "metadata": {
        "id": "WHE8gl5bwPCf",
        "colab_type": "text"
      },
      "source": [
        "### train model"
      ]
    },
    {
      "cell_type": "code",
      "metadata": {
        "id": "blY2NTOxwPCg",
        "colab_type": "code",
        "colab": {}
      },
      "source": [
        "from sklearn.linear_model import LinearRegression\n",
        "# fit_intercept true = assume b value\n",
        "reg = LinearRegression(fit_intercept=True)"
      ],
      "execution_count": null,
      "outputs": []
    },
    {
      "cell_type": "code",
      "metadata": {
        "id": "M_I04j6LwPCm",
        "colab_type": "code",
        "colab": {},
        "outputId": "3dcabdee-6df1-4d25-b692-fe583676b469"
      },
      "source": [
        "reg.fit(X_train, y_train)"
      ],
      "execution_count": null,
      "outputs": [
        {
          "output_type": "execute_result",
          "data": {
            "text/plain": [
              "LinearRegression(copy_X=True, fit_intercept=True, n_jobs=None,\n",
              "         normalize=False)"
            ]
          },
          "metadata": {
            "tags": []
          },
          "execution_count": 37
        }
      ]
    },
    {
      "cell_type": "code",
      "metadata": {
        "id": "aZmfEBJywPCt",
        "colab_type": "code",
        "colab": {},
        "outputId": "49ca1ee5-63ce-4a36-8748-fb5f014d93ad"
      },
      "source": [
        "print('Linear Model Coefficient (m)', reg.coef_)\n",
        "print('Linear Model Coefficient (b)', reg.intercept_)"
      ],
      "execution_count": null,
      "outputs": [
        {
          "output_type": "stream",
          "text": [
            "Linear Model Coefficient (m) [21.48388094]\n",
            "Linear Model Coefficient (b) 43.51575564354823\n"
          ],
          "name": "stdout"
        }
      ]
    },
    {
      "cell_type": "markdown",
      "metadata": {
        "id": "gGimIOn7wPCy",
        "colab_type": "text"
      },
      "source": [
        "### Evaluate model"
      ]
    },
    {
      "cell_type": "code",
      "metadata": {
        "id": "8vdzujTVwPCz",
        "colab_type": "code",
        "colab": {}
      },
      "source": [
        "y_pred = reg.predict(X_test)"
      ],
      "execution_count": null,
      "outputs": []
    },
    {
      "cell_type": "code",
      "metadata": {
        "id": "2fOdJTeJwPC5",
        "colab_type": "code",
        "colab": {},
        "outputId": "6d62c705-c1ed-4a2c-e843-16f7d27d73ab"
      },
      "source": [
        "y_pred"
      ],
      "execution_count": null,
      "outputs": [
        {
          "output_type": "execute_result",
          "data": {
            "text/plain": [
              "array([545.91941607, 677.46629455, 662.03886853, 478.50732302,\n",
              "       689.86238772, 655.05298633, 510.83511424, 575.84762342,\n",
              "       537.71997023, 599.21660191, 757.54698209, 681.73791848,\n",
              "       520.99763659, 393.70569981, 443.17502717, 169.3780898 ,\n",
              "       449.13907584, 305.82714528, 638.72794958, 410.68912878,\n",
              "       740.98932024, 650.90298243, 859.87390029, 548.33393745,\n",
              "       642.63912513, 731.09372416, 485.28911802, 607.48365472,\n",
              "       697.22281281, 897.80355889, 451.39314723, 325.2221184 ,\n",
              "       407.77018391, 606.13498283, 441.14716666, 469.21108747,\n",
              "       634.95050217, 570.34019122, 356.1322663 , 507.79625322,\n",
              "       712.95413498, 575.85785812, 395.41255698, 449.74347456,\n",
              "       310.83217563, 808.96333773, 750.18703029, 232.45151296,\n",
              "       180.88013752, 282.68948009, 697.84472153, 500.73390538,\n",
              "       589.68252669, 452.23823158, 944.21557209, 359.02683878,\n",
              "       346.6460331 , 257.37397648, 710.16773084, 483.39870214,\n",
              "       639.07987188, 583.02038573, 492.4562348 , 838.35670214,\n",
              "       303.96514527, 700.12033094, 744.96309788,  43.51575564,\n",
              "       550.04364962, 591.34792534, 636.45081224, 157.54161158,\n",
              "       664.4040337 , 497.77194248, 600.48904276, 899.85028225,\n",
              "       469.27341243, 659.01158367, 260.9269777 , 478.43866076,\n",
              "       467.92355655, 370.38375362, 449.28528783, 501.60349468,\n",
              "       378.40780827, 658.67946113, 650.71105059, 305.39175918,\n",
              "       503.79840419, 570.91402203, 721.97648006, 435.23625171,\n",
              "       433.6462067 , 209.91455703, 492.50128715, 229.09514968,\n",
              "       455.40568737, 437.6766384 , 465.08662297, 832.02944527])"
            ]
          },
          "metadata": {
            "tags": []
          },
          "execution_count": 41
        }
      ]
    },
    {
      "cell_type": "code",
      "metadata": {
        "id": "2GGZLYZbwPC_",
        "colab_type": "code",
        "colab": {},
        "outputId": "3c2f90b3-ad62-4fa4-fe6e-e951adb782c0"
      },
      "source": [
        "# plot training data points\n",
        "plt.scatter(X_train, y_train, color='gray')\n",
        "# Plot model\n",
        "plt.plot(X_train, reg.predict(X_train))\n",
        "# Add labels\n",
        "plt.ylabel('Revenue $')\n",
        "plt.xlabel('Temperature (c)')\n",
        "plt.title('Revenue generated vs temp')"
      ],
      "execution_count": null,
      "outputs": [
        {
          "output_type": "execute_result",
          "data": {
            "text/plain": [
              "Text(0.5, 1.0, 'Revenue generated vs temp')"
            ]
          },
          "metadata": {
            "tags": []
          },
          "execution_count": 48
        },
        {
          "output_type": "display_data",
          "data": {
            "image/png": "[encoded data removed]",
            "text/plain": [
              "<Figure size 432x288 with 1 Axes>"
            ]
          },
          "metadata": {
            "tags": [],
            "needs_background": "light"
          }
        }
      ]
    },
    {
      "cell_type": "code",
      "metadata": {
        "id": "OA_-BoAXwPDG",
        "colab_type": "code",
        "colab": {},
        "outputId": "227a6241-5d5c-4c50-ecaf-2ea1cb60517e"
      },
      "source": [
        "# plot testing data points\n",
        "plt.scatter(X_test, y_test, color='blue')\n",
        "# Plot model\n",
        "plt.plot(X_test, reg.predict(X_test))\n",
        "# Add labels\n",
        "plt.ylabel('Revenue $')\n",
        "plt.xlabel('Temperature (c)')\n",
        "plt.title('Revenue generated vs temp')"
      ],
      "execution_count": null,
      "outputs": [
        {
          "output_type": "execute_result",
          "data": {
            "text/plain": [
              "Text(0.5, 1.0, 'Revenue generated vs temp')"
            ]
          },
          "metadata": {
            "tags": []
          },
          "execution_count": 50
        },
        {
          "output_type": "display_data",
          "data": {
            "image/png": "[encoded data removed]",
            "text/plain": [
              "<Figure size 432x288 with 1 Axes>"
            ]
          },
          "metadata": {
            "tags": [],
            "needs_background": "light"
          }
        }
      ]
    },
    {
      "cell_type": "code",
      "metadata": {
        "id": "cHNNC6pzwPDQ",
        "colab_type": "code",
        "colab": {}
      },
      "source": [
        "# Predict on new temp\n",
        "Temp = [[40]]\n",
        "rev = reg.predict(Temp)"
      ],
      "execution_count": null,
      "outputs": []
    },
    {
      "cell_type": "code",
      "metadata": {
        "id": "bXaeQzhDwPDX",
        "colab_type": "code",
        "colab": {},
        "outputId": "f2698d5b-e05e-4ea3-d666-2bda09350137"
      },
      "source": [
        "rev"
      ],
      "execution_count": null,
      "outputs": [
        {
          "output_type": "execute_result",
          "data": {
            "text/plain": [
              "array([902.87099325])"
            ]
          },
          "metadata": {
            "tags": []
          },
          "execution_count": 59
        }
      ]
    },
    {
      "cell_type": "code",
      "metadata": {
        "id": "4D67zaXiwPDi",
        "colab_type": "code",
        "colab": {}
      },
      "source": [
        ""
      ],
      "execution_count": null,
      "outputs": []
    },
    {
      "cell_type": "code",
      "metadata": {
        "id": "shS_LmKFwPDm",
        "colab_type": "code",
        "colab": {}
      },
      "source": [
        ""
      ],
      "execution_count": null,
      "outputs": []
    }
  ]
}