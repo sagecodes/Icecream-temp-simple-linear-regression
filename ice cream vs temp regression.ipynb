{
 "cells": [
  {
   "cell_type": "markdown",
   "metadata": {},
   "source": [
    "### import libraries and Data"
   ]
  },
  {
   "cell_type": "code",
   "execution_count": 2,
   "metadata": {},
   "outputs": [],
   "source": [
    "# Import Libraries\n",
    "import pandas as pd\n",
    "import numpy as np\n",
    "import seaborn as sns\n",
    "import matplotlib.pyplot as plt\n",
    "%matplotlib inline"
   ]
  },
  {
   "cell_type": "code",
   "execution_count": 3,
   "metadata": {},
   "outputs": [],
   "source": [
    "# Import data\n",
    "icecream_df = pd.read_csv('../datasets/icecream/IceCreamData.csv')"
   ]
  },
  {
   "cell_type": "code",
   "execution_count": 4,
   "metadata": {},
   "outputs": [
    {
     "data": {
      "text/html": [
       "<div>\n",
       "<style scoped>\n",
       "    .dataframe tbody tr th:only-of-type {\n",
       "        vertical-align: middle;\n",
       "    }\n",
       "\n",
       "    .dataframe tbody tr th {\n",
       "        vertical-align: top;\n",
       "    }\n",
       "\n",
       "    .dataframe thead th {\n",
       "        text-align: right;\n",
       "    }\n",
       "</style>\n",
       "<table border=\"1\" class=\"dataframe\">\n",
       "  <thead>\n",
       "    <tr style=\"text-align: right;\">\n",
       "      <th></th>\n",
       "      <th>Temperature</th>\n",
       "      <th>Revenue</th>\n",
       "    </tr>\n",
       "  </thead>\n",
       "  <tbody>\n",
       "    <tr>\n",
       "      <th>0</th>\n",
       "      <td>24.566884</td>\n",
       "      <td>534.799028</td>\n",
       "    </tr>\n",
       "    <tr>\n",
       "      <th>1</th>\n",
       "      <td>26.005191</td>\n",
       "      <td>625.190122</td>\n",
       "    </tr>\n",
       "    <tr>\n",
       "      <th>2</th>\n",
       "      <td>27.790554</td>\n",
       "      <td>660.632289</td>\n",
       "    </tr>\n",
       "    <tr>\n",
       "      <th>3</th>\n",
       "      <td>20.595335</td>\n",
       "      <td>487.706960</td>\n",
       "    </tr>\n",
       "    <tr>\n",
       "      <th>4</th>\n",
       "      <td>11.503498</td>\n",
       "      <td>316.240194</td>\n",
       "    </tr>\n",
       "  </tbody>\n",
       "</table>\n",
       "</div>"
      ],
      "text/plain": [
       "   Temperature     Revenue\n",
       "0    24.566884  534.799028\n",
       "1    26.005191  625.190122\n",
       "2    27.790554  660.632289\n",
       "3    20.595335  487.706960\n",
       "4    11.503498  316.240194"
      ]
     },
     "execution_count": 4,
     "metadata": {},
     "output_type": "execute_result"
    }
   ],
   "source": [
    "icecream_df.head()"
   ]
  },
  {
   "cell_type": "code",
   "execution_count": 5,
   "metadata": {},
   "outputs": [
    {
     "data": {
      "text/html": [
       "<div>\n",
       "<style scoped>\n",
       "    .dataframe tbody tr th:only-of-type {\n",
       "        vertical-align: middle;\n",
       "    }\n",
       "\n",
       "    .dataframe tbody tr th {\n",
       "        vertical-align: top;\n",
       "    }\n",
       "\n",
       "    .dataframe thead th {\n",
       "        text-align: right;\n",
       "    }\n",
       "</style>\n",
       "<table border=\"1\" class=\"dataframe\">\n",
       "  <thead>\n",
       "    <tr style=\"text-align: right;\">\n",
       "      <th></th>\n",
       "      <th>Temperature</th>\n",
       "      <th>Revenue</th>\n",
       "    </tr>\n",
       "  </thead>\n",
       "  <tbody>\n",
       "    <tr>\n",
       "      <th>495</th>\n",
       "      <td>22.274899</td>\n",
       "      <td>524.746364</td>\n",
       "    </tr>\n",
       "    <tr>\n",
       "      <th>496</th>\n",
       "      <td>32.893092</td>\n",
       "      <td>755.818399</td>\n",
       "    </tr>\n",
       "    <tr>\n",
       "      <th>497</th>\n",
       "      <td>12.588157</td>\n",
       "      <td>306.090719</td>\n",
       "    </tr>\n",
       "    <tr>\n",
       "      <th>498</th>\n",
       "      <td>22.362402</td>\n",
       "      <td>566.217304</td>\n",
       "    </tr>\n",
       "    <tr>\n",
       "      <th>499</th>\n",
       "      <td>28.957736</td>\n",
       "      <td>655.660388</td>\n",
       "    </tr>\n",
       "  </tbody>\n",
       "</table>\n",
       "</div>"
      ],
      "text/plain": [
       "     Temperature     Revenue\n",
       "495    22.274899  524.746364\n",
       "496    32.893092  755.818399\n",
       "497    12.588157  306.090719\n",
       "498    22.362402  566.217304\n",
       "499    28.957736  655.660388"
      ]
     },
     "execution_count": 5,
     "metadata": {},
     "output_type": "execute_result"
    }
   ],
   "source": [
    "icecream_df.tail()"
   ]
  },
  {
   "cell_type": "markdown",
   "metadata": {},
   "source": [
    "### Explore data\n"
   ]
  },
  {
   "cell_type": "code",
   "execution_count": 6,
   "metadata": {},
   "outputs": [
    {
     "data": {
      "text/plain": [
       "(500, 2)"
      ]
     },
     "execution_count": 6,
     "metadata": {},
     "output_type": "execute_result"
    }
   ],
   "source": [
    "icecream_df.shape"
   ]
  },
  {
   "cell_type": "code",
   "execution_count": 7,
   "metadata": {},
   "outputs": [
    {
     "data": {
      "text/html": [
       "<div>\n",
       "<style scoped>\n",
       "    .dataframe tbody tr th:only-of-type {\n",
       "        vertical-align: middle;\n",
       "    }\n",
       "\n",
       "    .dataframe tbody tr th {\n",
       "        vertical-align: top;\n",
       "    }\n",
       "\n",
       "    .dataframe thead th {\n",
       "        text-align: right;\n",
       "    }\n",
       "</style>\n",
       "<table border=\"1\" class=\"dataframe\">\n",
       "  <thead>\n",
       "    <tr style=\"text-align: right;\">\n",
       "      <th></th>\n",
       "      <th>Temperature</th>\n",
       "      <th>Revenue</th>\n",
       "    </tr>\n",
       "  </thead>\n",
       "  <tbody>\n",
       "    <tr>\n",
       "      <th>count</th>\n",
       "      <td>500.000000</td>\n",
       "      <td>500.000000</td>\n",
       "    </tr>\n",
       "    <tr>\n",
       "      <th>mean</th>\n",
       "      <td>22.232225</td>\n",
       "      <td>521.570777</td>\n",
       "    </tr>\n",
       "    <tr>\n",
       "      <th>std</th>\n",
       "      <td>8.096388</td>\n",
       "      <td>175.404751</td>\n",
       "    </tr>\n",
       "    <tr>\n",
       "      <th>min</th>\n",
       "      <td>0.000000</td>\n",
       "      <td>10.000000</td>\n",
       "    </tr>\n",
       "    <tr>\n",
       "      <th>25%</th>\n",
       "      <td>17.122258</td>\n",
       "      <td>405.558681</td>\n",
       "    </tr>\n",
       "    <tr>\n",
       "      <th>50%</th>\n",
       "      <td>22.392791</td>\n",
       "      <td>529.368565</td>\n",
       "    </tr>\n",
       "    <tr>\n",
       "      <th>75%</th>\n",
       "      <td>27.740674</td>\n",
       "      <td>642.257922</td>\n",
       "    </tr>\n",
       "    <tr>\n",
       "      <th>max</th>\n",
       "      <td>45.000000</td>\n",
       "      <td>1000.000000</td>\n",
       "    </tr>\n",
       "  </tbody>\n",
       "</table>\n",
       "</div>"
      ],
      "text/plain": [
       "       Temperature      Revenue\n",
       "count   500.000000   500.000000\n",
       "mean     22.232225   521.570777\n",
       "std       8.096388   175.404751\n",
       "min       0.000000    10.000000\n",
       "25%      17.122258   405.558681\n",
       "50%      22.392791   529.368565\n",
       "75%      27.740674   642.257922\n",
       "max      45.000000  1000.000000"
      ]
     },
     "execution_count": 7,
     "metadata": {},
     "output_type": "execute_result"
    }
   ],
   "source": [
    "icecream_df.describe()"
   ]
  },
  {
   "cell_type": "code",
   "execution_count": 8,
   "metadata": {},
   "outputs": [
    {
     "name": "stdout",
     "output_type": "stream",
     "text": [
      "<class 'pandas.core.frame.DataFrame'>\n",
      "RangeIndex: 500 entries, 0 to 499\n",
      "Data columns (total 2 columns):\n",
      "Temperature    500 non-null float64\n",
      "Revenue        500 non-null float64\n",
      "dtypes: float64(2)\n",
      "memory usage: 7.9 KB\n"
     ]
    }
   ],
   "source": [
    "icecream_df.info()"
   ]
  },
  {
   "cell_type": "code",
   "execution_count": 9,
   "metadata": {},
   "outputs": [
    {
     "data": {
      "text/plain": [
       "<seaborn.axisgrid.JointGrid at 0x2628c521470>"
      ]
     },
     "execution_count": 9,
     "metadata": {},
     "output_type": "execute_result"
    },
    {
     "data": {
      "image/png": "[encoded data removed]",
      "text/plain": [
       "<Figure size 432x432 with 3 Axes>"
      ]
     },
     "metadata": {
      "needs_background": "light"
     },
     "output_type": "display_data"
    }
   ],
   "source": [
    "sns.jointplot(x='Temperature', y = 'Revenue', data = icecream_df, color = 'gray')"
   ]
  },
  {
   "cell_type": "code",
   "execution_count": 11,
   "metadata": {},
   "outputs": [
    {
     "data": {
      "text/plain": [
       "<seaborn.axisgrid.JointGrid at 0x2628c79def0>"
      ]
     },
     "execution_count": 11,
     "metadata": {},
     "output_type": "execute_result"
    },
    {
     "data": {
      "image/png": "[encoded data removed]",
      "text/plain": [
       "<Figure size 432x432 with 3 Axes>"
      ]
     },
     "metadata": {
      "needs_background": "light"
     },
     "output_type": "display_data"
    }
   ],
   "source": [
    "sns.jointplot(x='Revenue', y = 'Temperature', data = icecream_df, color = 'blue')"
   ]
  },
  {
   "cell_type": "code",
   "execution_count": 12,
   "metadata": {},
   "outputs": [
    {
     "data": {
      "text/plain": [
       "<seaborn.axisgrid.PairGrid at 0x2628caeb198>"
      ]
     },
     "execution_count": 12,
     "metadata": {},
     "output_type": "execute_result"
    },
    {
     "data": {
      "image/png": "[encoded data removed]",
      "text/plain": [
       "<Figure size 360x360 with 6 Axes>"
      ]
     },
     "metadata": {
      "needs_background": "light"
     },
     "output_type": "display_data"
    }
   ],
   "source": [
    "sns.pairplot(icecream_df)"
   ]
  },
  {
   "cell_type": "code",
   "execution_count": 15,
   "metadata": {},
   "outputs": [
    {
     "data": {
      "text/plain": [
       "<seaborn.axisgrid.FacetGrid at 0x2628cd0eb38>"
      ]
     },
     "execution_count": 15,
     "metadata": {},
     "output_type": "execute_result"
    },
    {
     "data": {
      "image/png": "[encoded data removed]",
      "text/plain": [
       "<Figure size 360x360 with 1 Axes>"
      ]
     },
     "metadata": {
      "needs_background": "light"
     },
     "output_type": "display_data"
    }
   ],
   "source": [
    "# lmplot plots best line thorugh data\n",
    "sns.lmplot(x='Temperature', y='Revenue', data = icecream_df)"
   ]
  },
  {
   "cell_type": "code",
   "execution_count": 16,
   "metadata": {},
   "outputs": [
    {
     "data": {
      "text/plain": [
       "<seaborn.axisgrid.FacetGrid at 0x2628ce262b0>"
      ]
     },
     "execution_count": 16,
     "metadata": {},
     "output_type": "execute_result"
    },
    {
     "data": {
      "image/png": "[encoded data removed]",
      "text/plain": [
       "<Figure size 360x360 with 1 Axes>"
      ]
     },
     "metadata": {
      "needs_background": "light"
     },
     "output_type": "display_data"
    }
   ],
   "source": [
    "# lmplot plots best line thorugh data\n",
    "sns.lmplot(x='Revenue', y='Temperature', data = icecream_df)"
   ]
  },
  {
   "cell_type": "code",
   "execution_count": 17,
   "metadata": {},
   "outputs": [],
   "source": [
    "X = icecream_df['Temperature']"
   ]
  },
  {
   "cell_type": "code",
   "execution_count": 18,
   "metadata": {},
   "outputs": [],
   "source": [
    "y = icecream_df['Revenue']"
   ]
  },
  {
   "cell_type": "code",
   "execution_count": 23,
   "metadata": {},
   "outputs": [
    {
     "data": {
      "text/plain": [
       "(500,)"
      ]
     },
     "execution_count": 23,
     "metadata": {},
     "output_type": "execute_result"
    }
   ],
   "source": [
    "X.shape"
   ]
  },
  {
   "cell_type": "code",
   "execution_count": 22,
   "metadata": {},
   "outputs": [
    {
     "data": {
      "text/plain": [
       "(500,)"
      ]
     },
     "execution_count": 22,
     "metadata": {},
     "output_type": "execute_result"
    }
   ],
   "source": [
    "y.shape"
   ]
  },
  {
   "cell_type": "code",
   "execution_count": 26,
   "metadata": {},
   "outputs": [],
   "source": [
    "# Create train Test Split\n",
    "from sklearn.model_selection import train_test_split\n",
    "X_train, X_test, y_train, y_test = train_test_split(X,y,test_size=0.20, random_state = 5)"
   ]
  },
  {
   "cell_type": "markdown",
   "metadata": {},
   "source": [
    "### train model"
   ]
  },
  {
   "cell_type": "code",
   "execution_count": 28,
   "metadata": {},
   "outputs": [],
   "source": [
    "from sklearn.linear_model import LinearRegression\n",
    "# fit_intercept true = assume b value\n",
    "reg = LinearRegression(fit_intercept=True)"
   ]
  },
  {
   "cell_type": "code",
   "execution_count": 29,
   "metadata": {},
   "outputs": [
    {
     "ename": "ValueError",
     "evalue": "Expected 2D array, got 1D array instead:\narray=[24.72715441 26.9236056  35.35976059  4.86587362 12.4508333  30.6353071\n 31.66946458 33.7442087  19.84924077 24.49347704 29.31201255 20.97115284\n 27.99922248 32.00416835 35.33120818 26.33705248 29.12912778 17.57423462\n 17.29920384 20.22642046  9.40347921 15.91667782 19.43326763 31.22898848\n 13.36431317 18.4750345  30.76273994 22.15258869 12.70471774  9.3093456\n 25.37410906 33.55141872 17.18894776 28.86558895  9.55727588 29.58948056\n 27.93134811 30.96508651 26.19166817 24.56688442 16.30255473 28.43656665\n 45.         19.77936855 25.24114819 24.30829573 30.66659556 27.31281141\n 15.11819661 29.91930886 20.59533505 23.82492237 21.35802411 25.3804373\n 20.47359412 35.03345633 18.77535808 31.8914678  15.6614643  34.86070051\n 29.3050392  26.9441229  26.16885914 37.12707034 32.29733128 18.81182403\n 27.11773949 12.26588434 29.4637861  40.47398918 23.08766377 14.3840835\n 22.18951589 35.44454622 11.5951027  23.88172478 11.07784312 18.43998163\n 23.4125478  25.49662411 21.02639814 13.70777988 11.45525338 25.71796257\n 30.02820743 32.71638067 14.73955066 16.99788893 30.40761507 25.44824\n 40.30376781 26.85972289 27.12812867  8.03315296 29.25112258 23.41086133\n 20.05018591 24.76187643 19.2786717  29.03573877 23.07061587 15.67648661\n 27.06860738 20.94791347 16.19129752 17.58837197 29.87997288 18.48314099\n 19.77514871 14.93150577 12.46293731 25.33342015 35.09479555 14.37969698\n 30.08108934 17.04973761  6.35245937 18.57811922 18.97830025 22.14631706\n  9.90029326 29.20971484 11.56964367 27.18581031 28.78743552 26.07840506\n 27.54196095  3.66466958 28.29868977 42.51528041 17.99701481 11.69453767\n  7.22337716 12.57151377 10.09664458 12.58815695 20.26501213 21.4881766\n 29.24175192 23.15300185 23.76143592 11.50349764 27.51664567 14.28719594\n 27.18851714 22.6785601  26.96421749 17.99302022 22.52674945 31.47122432\n 17.45516162 26.12213765 24.81875357 27.28106383 32.33480808  6.09389721\n  8.58694814 28.99373705 19.11365281 26.00519115 17.51707397 24.94971519\n 25.99599345 25.19142452 27.79055388  9.01886024 16.25872074 17.36073198\n 20.10390047 27.32232277 20.12955049 21.71200518 19.20297003 32.40924246\n 12.27096675 25.00237968  4.23646497 25.55120003 25.42294716 17.19943002\n 16.36494499 18.14895234 23.34903419 26.87495294 24.10161613 22.36240237\n 22.48279827 31.41262876 12.06247527 25.45783637 28.95773632 25.11606991\n 26.12624136 28.72991474 19.36315346 18.97799114 19.49474317 17.6568394\n  7.56112494 18.77353222 13.33060576 17.69003162 24.5288527  19.98286779\n  6.77520631  9.81251047 32.80503252 26.59505405 20.01638438 23.05621357\n 25.54596553 20.93460766 10.32638937 21.77594799 22.39797728 22.63473505\n 18.46290678 17.63693676 27.57296049 21.12912561 23.59102806 21.6967827\n 34.67804648 19.97746731 15.02911176  8.75600403 19.61787546 24.98851899\n 19.26778542 18.70847606 38.62886243 23.9638795  26.87358624 22.31107869\n 24.61523866 35.4581362  12.90177331 24.58590837 34.47216919 27.12941186\n 36.56911506 16.55794796 24.62861149 38.66820248  3.98652317 12.68842965\n 14.89697237 28.4917635  24.34910395 18.50623116  0.2670277  18.88371892\n 32.10707989 22.28455032 15.04792332 22.17119887 21.00704512 38.18519935\n 20.90057478 22.61931574 22.11870569 33.31499762 26.53021877 29.76822349\n 24.80257679 13.62450892 17.87119907 10.24505765 26.9567197  26.94363797\n 22.44803391 21.68442569 37.05754246 25.22777375  9.78238075 21.54045905\n 22.94031709 18.77682968 35.12015142 24.96044566 16.55584289 24.48490862\n  7.2613484   8.99176011 19.19495126  7.33544501 13.30179635 15.99234716\n 14.86610347 28.85519147 20.51163741 21.67989703 15.75395072 17.13279538\n 25.05628082 34.0616734  30.22810362 20.55667911 28.04640445 18.95252067\n 23.42464718 15.84302201  8.79095281 15.23119012 19.72133149 36.11656147\n 23.98464085 22.63297707 29.7185162  11.18775682 35.21724007 38.09660871\n 26.36052065 21.90251935 31.7379196   9.65149525 21.89743267 39.53990899\n 12.35208102 25.93537514 12.43313955 19.06659113 22.65313582 15.52116187\n 41.76658912 32.63285815 28.70127646  9.07383825 14.73182422 22.00987431\n 20.41103121 22.87056201  5.33841267 12.90066587 23.40725697 27.72739922\n 23.24671713 24.47243216 22.84197048 14.2635406  21.6018917  22.24873896\n 19.25165371 17.26218112 10.40342267 14.36142415 32.47979434 26.4560508\n 28.82975908 33.25089892 29.70418303 28.4595428  25.41930193  7.10749101\n 21.70395288 25.72547019 14.35251388 19.72807749 17.65850231 22.38760374\n 12.08460133 16.70385182  8.75555394 26.36974685 28.54798741 11.17715183\n 28.33536277 29.43057848 19.05928653 27.78049953 39.5131548  24.18393726\n 24.11359659  6.5425144  10.4471261  16.14582413 18.63391286 29.18504465\n 16.02097541 28.79315859 31.66848495 33.51453981  5.82233235 30.83398474\n 23.97593152 16.40602096 24.24311263 18.55163953 15.10292191 20.15334527\n 38.14633277  0.97686999 27.37540101 24.24037247 11.05909651 12.30161489\n 30.33033167 22.27489926 23.95931178 30.24724825].\nReshape your data either using array.reshape(-1, 1) if your data has a single feature or array.reshape(1, -1) if it contains a single sample.",
     "output_type": "error",
     "traceback": [
      "\u001b[1;31m-----------------------------------------------------------\u001b[0m",
      "\u001b[1;31mValueError\u001b[0m                Traceback (most recent call last)",
      "\u001b[1;32m<ipython-input-29-35dbd23650e6>\u001b[0m in \u001b[0;36m<module>\u001b[1;34m\u001b[0m\n\u001b[1;32m----> 1\u001b[1;33m \u001b[0mreg\u001b[0m\u001b[1;33m.\u001b[0m\u001b[0mfit\u001b[0m\u001b[1;33m(\u001b[0m\u001b[0mX_train\u001b[0m\u001b[1;33m,\u001b[0m \u001b[0my_train\u001b[0m\u001b[1;33m)\u001b[0m\u001b[1;33m\u001b[0m\u001b[0m\n\u001b[0m",
      "\u001b[1;32m~\\Anaconda3\\envs\\cv_tf_gpu\\lib\\site-packages\\sklearn\\linear_model\\base.py\u001b[0m in \u001b[0;36mfit\u001b[1;34m(self, X, y, sample_weight)\u001b[0m\n\u001b[0;32m    456\u001b[0m         \u001b[0mn_jobs_\u001b[0m \u001b[1;33m=\u001b[0m \u001b[0mself\u001b[0m\u001b[1;33m.\u001b[0m\u001b[0mn_jobs\u001b[0m\u001b[1;33m\u001b[0m\u001b[0m\n\u001b[0;32m    457\u001b[0m         X, y = check_X_y(X, y, accept_sparse=['csr', 'csc', 'coo'],\n\u001b[1;32m--> 458\u001b[1;33m                          y_numeric=True, multi_output=True)\n\u001b[0m\u001b[0;32m    459\u001b[0m \u001b[1;33m\u001b[0m\u001b[0m\n\u001b[0;32m    460\u001b[0m         \u001b[1;32mif\u001b[0m \u001b[0msample_weight\u001b[0m \u001b[1;32mis\u001b[0m \u001b[1;32mnot\u001b[0m \u001b[1;32mNone\u001b[0m \u001b[1;32mand\u001b[0m \u001b[0mnp\u001b[0m\u001b[1;33m.\u001b[0m\u001b[0matleast_1d\u001b[0m\u001b[1;33m(\u001b[0m\u001b[0msample_weight\u001b[0m\u001b[1;33m)\u001b[0m\u001b[1;33m.\u001b[0m\u001b[0mndim\u001b[0m \u001b[1;33m>\u001b[0m \u001b[1;36m1\u001b[0m\u001b[1;33m:\u001b[0m\u001b[1;33m\u001b[0m\u001b[0m\n",
      "\u001b[1;32m~\\Anaconda3\\envs\\cv_tf_gpu\\lib\\site-packages\\sklearn\\utils\\validation.py\u001b[0m in \u001b[0;36mcheck_X_y\u001b[1;34m(X, y, accept_sparse, accept_large_sparse, dtype, order, copy, force_all_finite, ensure_2d, allow_nd, multi_output, ensure_min_samples, ensure_min_features, y_numeric, warn_on_dtype, estimator)\u001b[0m\n\u001b[0;32m    754\u001b[0m                     \u001b[0mensure_min_features\u001b[0m\u001b[1;33m=\u001b[0m\u001b[0mensure_min_features\u001b[0m\u001b[1;33m,\u001b[0m\u001b[1;33m\u001b[0m\u001b[0m\n\u001b[0;32m    755\u001b[0m                     \u001b[0mwarn_on_dtype\u001b[0m\u001b[1;33m=\u001b[0m\u001b[0mwarn_on_dtype\u001b[0m\u001b[1;33m,\u001b[0m\u001b[1;33m\u001b[0m\u001b[0m\n\u001b[1;32m--> 756\u001b[1;33m                     estimator=estimator)\n\u001b[0m\u001b[0;32m    757\u001b[0m     \u001b[1;32mif\u001b[0m \u001b[0mmulti_output\u001b[0m\u001b[1;33m:\u001b[0m\u001b[1;33m\u001b[0m\u001b[0m\n\u001b[0;32m    758\u001b[0m         y = check_array(y, 'csr', force_all_finite=True, ensure_2d=False,\n",
      "\u001b[1;32m~\\Anaconda3\\envs\\cv_tf_gpu\\lib\\site-packages\\sklearn\\utils\\validation.py\u001b[0m in \u001b[0;36mcheck_array\u001b[1;34m(array, accept_sparse, accept_large_sparse, dtype, order, copy, force_all_finite, ensure_2d, allow_nd, ensure_min_samples, ensure_min_features, warn_on_dtype, estimator)\u001b[0m\n\u001b[0;32m    550\u001b[0m                     \u001b[1;34m\"Reshape your data either using array.reshape(-1, 1) if \"\u001b[0m\u001b[1;33m\u001b[0m\u001b[0m\n\u001b[0;32m    551\u001b[0m                     \u001b[1;34m\"your data has a single feature or array.reshape(1, -1) \"\u001b[0m\u001b[1;33m\u001b[0m\u001b[0m\n\u001b[1;32m--> 552\u001b[1;33m                     \"if it contains a single sample.\".format(array))\n\u001b[0m\u001b[0;32m    553\u001b[0m \u001b[1;33m\u001b[0m\u001b[0m\n\u001b[0;32m    554\u001b[0m         \u001b[1;31m# in the future np.flexible dtypes will be handled like object dtypes\u001b[0m\u001b[1;33m\u001b[0m\u001b[1;33m\u001b[0m\u001b[0m\n",
      "\u001b[1;31mValueError\u001b[0m: Expected 2D array, got 1D array instead:\narray=[24.72715441 26.9236056  35.35976059  4.86587362 12.4508333  30.6353071\n 31.66946458 33.7442087  19.84924077 24.49347704 29.31201255 20.97115284\n 27.99922248 32.00416835 35.33120818 26.33705248 29.12912778 17.57423462\n 17.29920384 20.22642046  9.40347921 15.91667782 19.43326763 31.22898848\n 13.36431317 18.4750345  30.76273994 22.15258869 12.70471774  9.3093456\n 25.37410906 33.55141872 17.18894776 28.86558895  9.55727588 29.58948056\n 27.93134811 30.96508651 26.19166817 24.56688442 16.30255473 28.43656665\n 45.         19.77936855 25.24114819 24.30829573 30.66659556 27.31281141\n 15.11819661 29.91930886 20.59533505 23.82492237 21.35802411 25.3804373\n 20.47359412 35.03345633 18.77535808 31.8914678  15.6614643  34.86070051\n 29.3050392  26.9441229  26.16885914 37.12707034 32.29733128 18.81182403\n 27.11773949 12.26588434 29.4637861  40.47398918 23.08766377 14.3840835\n 22.18951589 35.44454622 11.5951027  23.88172478 11.07784312 18.43998163\n 23.4125478  25.49662411 21.02639814 13.70777988 11.45525338 25.71796257\n 30.02820743 32.71638067 14.73955066 16.99788893 30.40761507 25.44824\n 40.30376781 26.85972289 27.12812867  8.03315296 29.25112258 23.41086133\n 20.05018591 24.76187643 19.2786717  29.03573877 23.07061587 15.67648661\n 27.06860738 20.94791347 16.19129752 17.58837197 29.87997288 18.48314099\n 19.77514871 14.93150577 12.46293731 25.33342015 35.09479555 14.37969698\n 30.08108934 17.04973761  6.35245937 18.57811922 18.97830025 22.14631706\n  9.90029326 29.20971484 11.56964367 27.18581031 28.78743552 26.07840506\n 27.54196095  3.66466958 28.29868977 42.51528041 17.99701481 11.69453767\n  7.22337716 12.57151377 10.09664458 12.58815695 20.26501213 21.4881766\n 29.24175192 23.15300185 23.76143592 11.50349764 27.51664567 14.28719594\n 27.18851714 22.6785601  26.96421749 17.99302022 22.52674945 31.47122432\n 17.45516162 26.12213765 24.81875357 27.28106383 32.33480808  6.09389721\n  8.58694814 28.99373705 19.11365281 26.00519115 17.51707397 24.94971519\n 25.99599345 25.19142452 27.79055388  9.01886024 16.25872074 17.36073198\n 20.10390047 27.32232277 20.12955049 21.71200518 19.20297003 32.40924246\n 12.27096675 25.00237968  4.23646497 25.55120003 25.42294716 17.19943002\n 16.36494499 18.14895234 23.34903419 26.87495294 24.10161613 22.36240237\n 22.48279827 31.41262876 12.06247527 25.45783637 28.95773632 25.11606991\n 26.12624136 28.72991474 19.36315346 18.97799114 19.49474317 17.6568394\n  7.56112494 18.77353222 13.33060576 17.69003162 24.5288527  19.98286779\n  6.77520631  9.81251047 32.80503252 26.59505405 20.01638438 23.05621357\n 25.54596553 20.93460766 10.32638937 21.77594799 22.39797728 22.63473505\n 18.46290678 17.63693676 27.57296049 21.12912561 23.59102806 21.6967827\n 34.67804648 19.97746731 15.02911176  8.75600403 19.61787546 24.98851899\n 19.26778542 18.70847606 38.62886243 23.9638795  26.87358624 22.31107869\n 24.61523866 35.4581362  12.90177331 24.58590837 34.47216919 27.12941186\n 36.56911506 16.55794796 24.62861149 38.66820248  3.98652317 12.68842965\n 14.89697237 28.4917635  24.34910395 18.50623116  0.2670277  18.88371892\n 32.10707989 22.28455032 15.04792332 22.17119887 21.00704512 38.18519935\n 20.90057478 22.61931574 22.11870569 33.31499762 26.53021877 29.76822349\n 24.80257679 13.62450892 17.87119907 10.24505765 26.9567197  26.94363797\n 22.44803391 21.68442569 37.05754246 25.22777375  9.78238075 21.54045905\n 22.94031709 18.77682968 35.12015142 24.96044566 16.55584289 24.48490862\n  7.2613484   8.99176011 19.19495126  7.33544501 13.30179635 15.99234716\n 14.86610347 28.85519147 20.51163741 21.67989703 15.75395072 17.13279538\n 25.05628082 34.0616734  30.22810362 20.55667911 28.04640445 18.95252067\n 23.42464718 15.84302201  8.79095281 15.23119012 19.72133149 36.11656147\n 23.98464085 22.63297707 29.7185162  11.18775682 35.21724007 38.09660871\n 26.36052065 21.90251935 31.7379196   9.65149525 21.89743267 39.53990899\n 12.35208102 25.93537514 12.43313955 19.06659113 22.65313582 15.52116187\n 41.76658912 32.63285815 28.70127646  9.07383825 14.73182422 22.00987431\n 20.41103121 22.87056201  5.33841267 12.90066587 23.40725697 27.72739922\n 23.24671713 24.47243216 22.84197048 14.2635406  21.6018917  22.24873896\n 19.25165371 17.26218112 10.40342267 14.36142415 32.47979434 26.4560508\n 28.82975908 33.25089892 29.70418303 28.4595428  25.41930193  7.10749101\n 21.70395288 25.72547019 14.35251388 19.72807749 17.65850231 22.38760374\n 12.08460133 16.70385182  8.75555394 26.36974685 28.54798741 11.17715183\n 28.33536277 29.43057848 19.05928653 27.78049953 39.5131548  24.18393726\n 24.11359659  6.5425144  10.4471261  16.14582413 18.63391286 29.18504465\n 16.02097541 28.79315859 31.66848495 33.51453981  5.82233235 30.83398474\n 23.97593152 16.40602096 24.24311263 18.55163953 15.10292191 20.15334527\n 38.14633277  0.97686999 27.37540101 24.24037247 11.05909651 12.30161489\n 30.33033167 22.27489926 23.95931178 30.24724825].\nReshape your data either using array.reshape(-1, 1) if your data has a single feature or array.reshape(1, -1) if it contains a single sample."
     ]
    }
   ],
   "source": [
    "reg.fit(X_train, y_train)"
   ]
  },
  {
   "cell_type": "code",
   "execution_count": null,
   "metadata": {},
   "outputs": [],
   "source": []
  },
  {
   "cell_type": "code",
   "execution_count": null,
   "metadata": {},
   "outputs": [],
   "source": []
  },
  {
   "cell_type": "code",
   "execution_count": null,
   "metadata": {},
   "outputs": [],
   "source": []
  },
  {
   "cell_type": "code",
   "execution_count": null,
   "metadata": {},
   "outputs": [],
   "source": []
  },
  {
   "cell_type": "code",
   "execution_count": null,
   "metadata": {},
   "outputs": [],
   "source": []
  },
  {
   "cell_type": "code",
   "execution_count": null,
   "metadata": {},
   "outputs": [],
   "source": []
  },
  {
   "cell_type": "code",
   "execution_count": null,
   "metadata": {},
   "outputs": [],
   "source": []
  }
 ],
 "metadata": {
  "kernelspec": {
   "display_name": "Python 3",
   "language": "python",
   "name": "python3"
  },
  "language_info": {
   "codemirror_mode": {
    "name": "ipython",
    "version": 3
   },
   "file_extension": ".py",
   "mimetype": "text/x-python",
   "name": "python",
   "nbconvert_exporter": "python",
   "pygments_lexer": "ipython3",
   "version": "3.6.6"
  }
 },
 "nbformat": 4,
 "nbformat_minor": 2
}
